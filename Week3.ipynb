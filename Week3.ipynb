{
  "nbformat": 4,
  "nbformat_minor": 0,
  "metadata": {
    "colab": {
      "name": "Week3.ipynb",
      "provenance": [],
      "authorship_tag": "ABX9TyNTw8A77ye8YmZRDwS+JAog",
      "include_colab_link": true
    },
    "kernelspec": {
      "name": "python3",
      "display_name": "Python 3"
    },
    "language_info": {
      "name": "python"
    }
  },
  "cells": [
    {
      "cell_type": "markdown",
      "metadata": {
        "id": "view-in-github",
        "colab_type": "text"
      },
      "source": [
        "<a href=\"https://colab.research.google.com/github/asadalfan/PCVK_Genap_2021/blob/main/Week3.ipynb\" target=\"_parent\"><img src=\"https://colab.research.google.com/assets/colab-badge.svg\" alt=\"Open In Colab\"/></a>"
      ]
    },
    {
      "cell_type": "code",
      "metadata": {
        "id": "p8Fy8tY2JqCz",
        "outputId": "cab658b7-dcb1-4ef4-8981-e28d86a753b2",
        "colab": {
          "base_uri": "https://localhost:8080/"
        }
      },
      "source": [
        "from google.colab import drive\n",
        "drive.mount('/content/drive')\n"
      ],
      "execution_count": 8,
      "outputs": [
        {
          "output_type": "stream",
          "text": [
            "Drive already mounted at /content/drive; to attempt to forcibly remount, call drive.mount(\"/content/drive\", force_remount=True).\n"
          ],
          "name": "stdout"
        }
      ]
    },
    {
      "cell_type": "code",
      "metadata": {
        "id": "LYMGf5aGPxar",
        "outputId": "1466da57-9a3c-4f9a-8ffe-186fbfad942b",
        "colab": {
          "base_uri": "https://localhost:8080/",
          "height": 129
        }
      },
      "source": [
        "print(' Mengubah tingkat kecerahan: ')\n",
        "print('-----------------------------')\n",
        "try:\n",
        "  brightness = int(input('Masukkan nilai kecerahan: '))\n",
        "  except ValueError:\n",
        "    print('Error, not a number')\n",
        "\n",
        "original = cv.imread('/content/drive/PCVK/images/female.tiff')\n",
        "brightess_image = np.zeros(original.shape, original.dtype)\n",
        "\n",
        "#ases per piksel\n",
        "for y in range(original.shape[0]):\n",
        "  for x in range(original.shape[1]):\n",
        "    for c in range(original.shape[2]):\n",
        "      brightness_image[y,x,c] = np.clip(original[y,x,c]+brightness, 0, 255)\n",
        "\n",
        "#cara simple tanpa for loop\n",
        "#brightness_image = cv.convertScaleAbs(original, beta-brightness)\n",
        "\n",
        "final_frame = cv.hanconcat((original, brightness_image))\n",
        "cv2_imshow(final_frame)"
      ],
      "execution_count": 9,
      "outputs": [
        {
          "output_type": "error",
          "ename": "SyntaxError",
          "evalue": "ignored",
          "traceback": [
            "\u001b[0;36m  File \u001b[0;32m\"<ipython-input-9-2803f49c14b2>\"\u001b[0;36m, line \u001b[0;32m5\u001b[0m\n\u001b[0;31m    except ValueError:\u001b[0m\n\u001b[0m         ^\u001b[0m\n\u001b[0;31mSyntaxError\u001b[0m\u001b[0;31m:\u001b[0m invalid syntax\n"
          ]
        }
      ]
    }
  ]
}